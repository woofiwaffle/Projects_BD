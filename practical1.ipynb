{
  "nbformat": 4,
  "nbformat_minor": 0,
  "metadata": {
    "colab": {
      "provenance": [],
      "authorship_tag": "ABX9TyOuJu31nCW66qbipZIwJ28W",
      "include_colab_link": true
    },
    "kernelspec": {
      "name": "python3",
      "display_name": "Python 3"
    },
    "language_info": {
      "name": "python"
    }
  },
  "cells": [
    {
      "cell_type": "markdown",
      "metadata": {
        "id": "view-in-github",
        "colab_type": "text"
      },
      "source": [
        "<a href=\"https://colab.research.google.com/github/woofiwaffle/Projects_BD/blob/main/practical1.ipynb\" target=\"_parent\"><img src=\"https://colab.research.google.com/assets/colab-badge.svg\" alt=\"Open In Colab\"/></a>"
      ]
    },
    {
      "cell_type": "code",
      "source": [
        "import kagglehub\n",
        "\n",
        "# Download latest version\n",
        "path = kagglehub.dataset_download(\"cityofLA/los-angeles-building-and-safety-permits\")\n",
        "\n",
        "print(\"Path to dataset files:\", path)"
      ],
      "metadata": {
        "colab": {
          "base_uri": "https://localhost:8080/"
        },
        "id": "w7DsTZ4FqvUy",
        "outputId": "271d97bf-3ae0-4de4-ce19-d1550e520c0b"
      },
      "execution_count": null,
      "outputs": [
        {
          "output_type": "stream",
          "name": "stdout",
          "text": [
            "Warning: Looks like you're using an outdated `kagglehub` version (installed: 0.3.7), please consider upgrading to the latest version (0.3.8).\n",
            "Path to dataset files: /root/.cache/kagglehub/datasets/cityofLA/los-angeles-building-and-safety-permits/versions/11\n"
          ]
        }
      ]
    },
    {
      "cell_type": "code",
      "source": [
        "import os\n",
        "\n",
        "dataset_path = \"/root/.cache/kagglehub/datasets/cityofLA/los-angeles-building-and-safety-permits/versions/11\"\n",
        "\n",
        "# Вывести список файлов\n",
        "print(os.listdir(dataset_path))\n"
      ],
      "metadata": {
        "colab": {
          "base_uri": "https://localhost:8080/"
        },
        "id": "Kr4skwHurHUp",
        "outputId": "9e361728-5d7a-40b0-befd-6ff2b6adad4f"
      },
      "execution_count": null,
      "outputs": [
        {
          "output_type": "stream",
          "name": "stdout",
          "text": [
            "['building-and-safety-permit-information.csv', 'socrata_metadata_building-and-safety-permit-information.json', 'building-and-safety-temporary-special-event-tse-permits.csv', 'socrata_metadata_building-and-safety-temporary-special-event-tse-permits.json']\n"
          ]
        }
      ]
    },
    {
      "cell_type": "code",
      "source": [
        "!mkdir -p /content/dataset\n",
        "!cp -r /root/.cache/kagglehub/datasets/cityofLA/los-angeles-building-and-safety-permits/versions/11/* /content/dataset/"
      ],
      "metadata": {
        "id": "MhAcwM4zt7Jn"
      },
      "execution_count": null,
      "outputs": []
    },
    {
      "cell_type": "code",
      "source": [
        "import pandas as pd\n",
        "\n",
        "# Обновленный путь\n",
        "dataset_path = \"/content/dataset\"\n",
        "\n",
        "# Загружаем основной датасет\n",
        "df_permits = pd.read_csv(f\"{dataset_path}/building-and-safety-permit-information.csv\")\n",
        "\n",
        "# Загружаем датасет с временными разрешениями\n",
        "df_tse = pd.read_csv(f\"{dataset_path}/building-and-safety-temporary-special-event-tse-permits.csv\")\n",
        "\n",
        "# Вывод первых строк\n",
        "print(df_permits.head())\n",
        "print(df_tse.head())"
      ],
      "metadata": {
        "colab": {
          "base_uri": "https://localhost:8080/"
        },
        "id": "RPE_7w-qtgg4",
        "outputId": "c4acb80f-aba3-42b5-b279-182e2f610a93"
      },
      "execution_count": 35,
      "outputs": [
        {
          "output_type": "stream",
          "name": "stderr",
          "text": [
            "<ipython-input-35-fa9d673ddd99>:7: DtypeWarning: Columns (1,14) have mixed types. Specify dtype option on import or set low_memory=False.\n",
            "  df_permits = pd.read_csv(f\"{dataset_path}/building-and-safety-permit-information.csv\")\n"
          ]
        },
        {
          "output_type": "stream",
          "name": "stdout",
          "text": [
            "   Assessor Book Assessor Page Assessor Parcel                Tract Block  \\\n",
            "0         4317.0           3.0             ***           TR 30210-C   NaN   \n",
            "1         5005.0          10.0             017  CHESTERFIELD SQUARE   NaN   \n",
            "2         5154.0          23.0             022        SUN-SET TRACT     D   \n",
            "3         4404.0          30.0             010             TR 12086   NaN   \n",
            "4         2646.0          19.0             011              TR 7158   NaN   \n",
            "\n",
            "    Lot Reference # (Old Permit #)      PCIS Permit #          Status  \\\n",
            "0  LT 1                        NaN  15044-90000-08405  Permit Finaled   \n",
            "1   465                  16SL57806  16016-70000-02464  Permit Finaled   \n",
            "2    13                  14VN81535  14016-20000-13092          Issued   \n",
            "3     2                        NaN  16044-30000-09658  Permit Finaled   \n",
            "4    11                        NaN  17042-90000-31792  Permit Finaled   \n",
            "\n",
            "               Status Date  ...  \\\n",
            "0  2015-09-10T00:00:00.000  ...   \n",
            "1  2017-08-01T00:00:00.000  ...   \n",
            "2  2014-08-13T00:00:00.000  ...   \n",
            "3  2016-08-29T00:00:00.000  ...   \n",
            "4  2017-12-28T00:00:00.000  ...   \n",
            "\n",
            "                                  Latitude/Longitude Applicant Relationship  \\\n",
            "0  {'longitude': '-118.42628', 'human_address': '...          Net Applicant   \n",
            "1  {'longitude': '-118.31668', 'human_address': '...             Owner-Bldr   \n",
            "2  {'longitude': '-118.26997', 'human_address': '...        Agent for Owner   \n",
            "3  {'longitude': '-118.4732', 'human_address': '{...             Contractor   \n",
            "4  {'longitude': '-118.43002', 'human_address': '...          Net Applicant   \n",
            "\n",
            "  Existing Code  Proposed Code Zip Codes Census Tracts Precinct Boundaries  \\\n",
            "0           NaN            NaN   23443.0         859.0               738.0   \n",
            "1           1.0            NaN   24027.0         743.0               622.0   \n",
            "2           5.0            NaN   24352.0         563.0               836.0   \n",
            "3           NaN            NaN   23680.0         840.0              1219.0   \n",
            "4           NaN            NaN   18907.0          26.0               408.0   \n",
            "\n",
            "   LA Specific Plans Council Districts  Neighborhood Councils (Certified)  \n",
            "0                9.0               6.0                               75.0  \n",
            "1                7.0              14.0                               35.0  \n",
            "2                NaN              11.0                               67.0  \n",
            "3                9.0              10.0                                NaN  \n",
            "4                NaN               1.0                               11.0  \n",
            "\n",
            "[5 rows x 65 columns]\n",
            "     PCIS Permit #              Permit Type Permit Sub-Type  Address Start  \\\n",
            "0  114109000002307  Temporary Special Event      Commercial            NaN   \n",
            "1  174109000001773  Temporary Special Event      Commercial            NaN   \n",
            "2  184109000000050  Temporary Special Event      Commercial        15180.0   \n",
            "3  124109000002686  Temporary Special Event      Commercial            NaN   \n",
            "4  124109000000302  Temporary Special Event      Commercial            NaN   \n",
            "\n",
            "  Address Fraction Start  Address End Address Fraction End Street Direction  \\\n",
            "0                    NaN          NaN                  NaN              NaN   \n",
            "1                    NaN          NaN                  NaN              NaN   \n",
            "2                    NaN      15180.0                  NaN                W   \n",
            "3                    NaN          NaN                  NaN              NaN   \n",
            "4                    NaN          NaN                  NaN              NaN   \n",
            "\n",
            "  Street Name Street Suffix  ...                      Event Name  \\\n",
            "0         NaN           NaN  ...  USC/ANNENBERGS DEANS BREAKFAST   \n",
            "1         NaN           NaN  ...                      USC & RAMS   \n",
            "2     BLEDSOE            ST  ...               SILENT FILM/ORGAN   \n",
            "3         NaN           NaN  ...                   HOLIDAY PARTY   \n",
            "4         NaN           NaN  ...            DESIGNERS AND AGENTS   \n",
            "\n",
            "          Event Start Date           Event End Date  \\\n",
            "0  2011-10-28T00:00:00.000  2011-10-28T00:00:00.000   \n",
            "1  2017-08-12T00:00:00.000  2017-08-12T00:00:00.000   \n",
            "2  2018-10-26T00:00:00.000  2018-10-27T00:00:00.000   \n",
            "3  2012-12-15T00:00:00.000  2012-12-15T00:00:00.000   \n",
            "4  2012-03-12T00:00:00.000  2012-03-14T00:00:00.000   \n",
            "\n",
            "                                  Latitude/Longitude Zip Codes  \\\n",
            "0                                                NaN       NaN   \n",
            "1                                                NaN       NaN   \n",
            "2  {'longitude': '-118.46389', 'human_address': '...   18912.0   \n",
            "3                                                NaN       NaN   \n",
            "4                                                NaN       NaN   \n",
            "\n",
            "  Council Districts Census Tracts Precinct Boundaries LA Specific Plans  \\\n",
            "0               NaN           NaN                 NaN               NaN   \n",
            "1               NaN           NaN                 NaN               NaN   \n",
            "2               1.0          49.0               222.0               NaN   \n",
            "3               NaN           NaN                 NaN               NaN   \n",
            "4               NaN           NaN                 NaN               NaN   \n",
            "\n",
            "  Neighborhood Councils (Certified)  \n",
            "0                               NaN  \n",
            "1                               NaN  \n",
            "2                              47.0  \n",
            "3                               NaN  \n",
            "4                               NaN  \n",
            "\n",
            "[5 rows x 26 columns]\n"
          ]
        }
      ]
    }
  ]
}